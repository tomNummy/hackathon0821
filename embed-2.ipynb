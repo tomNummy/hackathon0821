{
 "cells": [
  {
   "cell_type": "code",
   "execution_count": 1,
   "metadata": {},
   "outputs": [],
   "source": [
    "from src.pandas_pattern_generator import PandasPatternGenerator\n",
    "from src.lsh import LSHashMap, hamming_dist, norm_vectors\n",
    "from src.bloom_count import bloom\n",
    "from src.pattern_overlap import pattern_overlap\n",
    "\n",
    "import numpy as np\n",
    "import pandas as pd\n",
    "import matplotlib.pyplot as plt\n",
    "from dask.dataframe.hyperloglog import compute_hll_array\n",
    "import itertools\n"
   ]
  },
  {
   "cell_type": "code",
   "execution_count": 2,
   "metadata": {},
   "outputs": [],
   "source": [
    "BITS = 8\n",
    "NPats = 8\n",
    "\n",
    "ppg = PandasPatternGenerator(1000, 10)\n",
    "\n",
    "overlaps = np.asarray([ppg.get_overlap(x, y) for x,y in itertools.product(*[range(1, NPats + 1)]*2)])\n",
    "overlaps = overlaps.reshape(NPats, NPats).T"
   ]
  },
  {
   "cell_type": "code",
   "execution_count": 3,
   "metadata": {},
   "outputs": [
    {
     "data": {
      "text/plain": [
       "array([[1000,  500,  334,  250,  200,  167,  143,  125],\n",
       "       [ 500,  500,  167,  250,  100,  167,   72,  125],\n",
       "       [ 334,  167,  334,   84,   67,  167,   48,   42],\n",
       "       [ 250,  250,   84,  250,   50,   84,   36,  125],\n",
       "       [ 200,  100,   67,   50,  200,   34,   29,   25],\n",
       "       [ 167,  167,  167,   84,   34,  167,   24,   42],\n",
       "       [ 143,   72,   48,   36,   29,   24,  143,   18],\n",
       "       [ 125,  125,   42,  125,   25,   42,   18,  125]])"
      ]
     },
     "execution_count": 3,
     "metadata": {},
     "output_type": "execute_result"
    }
   ],
   "source": [
    "overlaps"
   ]
  },
  {
   "cell_type": "code",
   "execution_count": 8,
   "metadata": {},
   "outputs": [
    {
     "name": "stdout",
     "output_type": "stream",
     "text": [
      "neighbor_sets  =  {(2, 3, 5, 6, 7), (0, 1, 4)}\n",
      "overlaps = \n",
      " [[1000  501    0    0  201    0    0    0]\n",
      " [ 501  500    0    0  142    0    0    0]\n",
      " [   0    0  334  138    0  169   78   55]\n",
      " [   0    0  138  250    0  112   53  129]\n",
      " [ 201  142    0    0  200    0    0    0]\n",
      " [   0    0  169  112    0  167   50   61]\n",
      " [   0    0   78   53    0   50  143   22]\n",
      " [   0    0   55  129    0   61   22  125]]\n"
     ]
    }
   ],
   "source": [
    "patterns = np.asarray([ppg.generate_pattern(x) for x in range(1, NPats + 1)])\n",
    "\n",
    "tmp = pattern_overlap(patterns, LSHwidth=32)\n",
    "\n",
    "overlaps_close, neighbor_sets = tmp.get_overlaps(max_ham_distance=10)\n",
    "\n",
    "print('neighbor_sets  = ', neighbor_sets)\n",
    "print('overlaps = \\n', overlaps_close)"
   ]
  },
  {
   "cell_type": "markdown",
   "metadata": {},
   "source": [
    "---"
   ]
  }
 ],
 "metadata": {
  "kernelspec": {
   "display_name": "Python 3",
   "language": "python",
   "name": "python3"
  },
  "language_info": {
   "codemirror_mode": {
    "name": "ipython",
    "version": 3
   },
   "file_extension": ".py",
   "mimetype": "text/x-python",
   "name": "python",
   "nbconvert_exporter": "python",
   "pygments_lexer": "ipython3",
   "version": "3.8.11"
  }
 },
 "nbformat": 4,
 "nbformat_minor": 5
}
