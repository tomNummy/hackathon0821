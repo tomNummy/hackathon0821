{
 "cells": [
  {
   "cell_type": "code",
   "execution_count": 1,
   "metadata": {},
   "outputs": [],
   "source": [
    "from src.pandas_pattern_generator import PandasPatternGenerator\n",
    "from src.lsh import LSHashMap, hamming_dist, norm_vectors\n",
    "from src.bloom_count import bloom\n",
    "from src.pattern_overlap import pattern_overlap\n",
    "\n",
    "import numpy as np\n",
    "import pandas as pd\n",
    "import matplotlib.pyplot as plt\n",
    "from dask.dataframe.hyperloglog import compute_hll_array\n",
    "import itertools\n"
   ]
  },
  {
   "cell_type": "code",
   "execution_count": 2,
   "metadata": {},
   "outputs": [],
   "source": [
    "BITS = 8\n",
    "NPats = 8\n",
    "\n",
    "ppg = PandasPatternGenerator(10000, 10)\n",
    "\n",
    "overlaps = np.asarray([ppg.get_overlap(x, y) for x,y in itertools.product(*[range(1, NPats + 1)]*2)])\n",
    "overlaps = overlaps.reshape(NPats, NPats).T"
   ]
  },
  {
   "cell_type": "code",
   "execution_count": 3,
   "metadata": {},
   "outputs": [
    {
     "data": {
      "text/plain": [
       "array([[10000,  5000,  3334,  2500,  2000,  1667,  1429,  1250],\n",
       "       [ 5000,  5000,  1667,  2500,  1000,  1667,   715,  1250],\n",
       "       [ 3334,  1667,  3334,   834,   667,  1667,   477,   417],\n",
       "       [ 2500,  2500,   834,  2500,   500,   834,   358,  1250],\n",
       "       [ 2000,  1000,   667,   500,  2000,   334,   286,   250],\n",
       "       [ 1667,  1667,  1667,   834,   334,  1667,   239,   417],\n",
       "       [ 1429,   715,   477,   358,   286,   239,  1429,   179],\n",
       "       [ 1250,  1250,   417,  1250,   250,   417,   179,  1250]])"
      ]
     },
     "execution_count": 3,
     "metadata": {},
     "output_type": "execute_result"
    }
   ],
   "source": [
    "overlaps"
   ]
  },
  {
   "cell_type": "code",
   "execution_count": 10,
   "metadata": {
    "scrolled": false
   },
   "outputs": [
    {
     "name": "stdout",
     "output_type": "stream",
     "text": [
      "neighbor sets = \n",
      " {(0, 1), (3, 4), (1, 2, 3), (2, 3, 4), (5, 6), (0, 1, 2)}\n",
      "overlaps = \n",
      " [[ 10000   7881      0      0      0      0      0]\n",
      " [  7881  20000  14834      0      0      0      0]\n",
      " [     0  14834  40000  26444      0      0      0]\n",
      " [     0      0  26444 100000  85618      0      0]\n",
      " [     0      0      0  85618 200000      0      0]\n",
      " [     0      0      0      0      0      1      0]\n",
      " [     0      0      0      0      0      0      1]]\n"
     ]
    }
   ],
   "source": [
    "patterns = np.asarray([ppg.generate_pattern(x) for x in range(1, NPats + 1)])\n",
    "\n",
    "sameLength = True\n",
    "if sameLength:\n",
    "    N = 10**4\n",
    "\n",
    "    pds= [\n",
    "        pd.Series(np.arange(N*x)) for x in [1, 2,  4,  10, 20]\n",
    "    ] + [pd.Series([1]), pd.Series([1])]\n",
    "#     patterns = np.asarray([embed(x, BITS) for x in pds])\n",
    "    patterns= np.asarray(pds)\n",
    "\n",
    "po = pattern_overlap(patterns, LSHwidth=32)\n",
    "overlaps_close, neighbor_sets = po.get_overlaps(max_ham_distance=10)\n",
    "\n",
    "\n",
    "print('neighbor sets = \\n', neighbor_sets)\n",
    "print('overlaps = \\n', overlaps_close)"
   ]
  },
  {
   "cell_type": "code",
   "execution_count": 11,
   "metadata": {},
   "outputs": [
    {
     "data": {
      "text/plain": [
       "array([[ 0, 10,  9, 15, 17, 25],\n",
       "       [10,  0, 17, 21,  7, 29],\n",
       "       [ 9, 17,  0,  6, 24, 18],\n",
       "       [15, 21,  6,  0, 28, 14],\n",
       "       [17,  7, 24, 28,  0, 22],\n",
       "       [25, 29, 18, 14, 22,  0]])"
      ]
     },
     "execution_count": 11,
     "metadata": {},
     "output_type": "execute_result"
    }
   ],
   "source": [
    "h_dists = np.asarray([hamming_dist(x, y) for x,y in itertools.product(po.lsh.keys(), repeat=2)])\n",
    "h_dists = h_dists.reshape(len(po.lsh.bins), len(po.lsh.bins))\n",
    "h_dists"
   ]
  },
  {
   "cell_type": "code",
   "execution_count": 6,
   "metadata": {},
   "outputs": [
    {
     "name": "stdout",
     "output_type": "stream",
     "text": [
      "[[ 1.          0.76370156  0.3469626  -0.47634643 -0.74414614  0.27396644\n",
      "   0.27396644]\n",
      " [ 0.76370156  1.          0.70658228 -0.10312097 -0.45544072 -0.1284388\n",
      "  -0.1284388 ]\n",
      " [ 0.3469626   0.70658228  1.          0.47524061  0.09977501 -0.63959435\n",
      "  -0.63959435]\n",
      " [-0.47634643 -0.10312097  0.47524061  1.          0.88767145 -0.95670059\n",
      "  -0.95670059]\n",
      " [-0.74414614 -0.45544072  0.09977501  0.88767145  1.         -0.80194914\n",
      "  -0.80194914]\n",
      " [ 0.27396644 -0.1284388  -0.63959435 -0.95670059 -0.80194914  1.\n",
      "   1.        ]\n",
      " [ 0.27396644 -0.1284388  -0.63959435 -0.95670059 -0.80194914  1.\n",
      "   1.        ]]\n",
      "\n",
      "[[ 1.          0.76370156  0.3469626  -0.47634643 -0.74414614  0.27396644\n",
      "   0.27396644]\n",
      " [ 0.76370156  1.          0.70658228 -0.10312097 -0.45544072 -0.1284388\n",
      "  -0.1284388 ]\n",
      " [ 0.3469626   0.70658228  1.          0.47524061  0.09977501 -0.63959435\n",
      "  -0.63959435]\n",
      " [-0.47634643 -0.10312097  0.47524061  1.          0.88767145 -0.95670059\n",
      "  -0.95670059]\n",
      " [-0.74414614 -0.45544072  0.09977501  0.88767145  1.         -0.80194914\n",
      "  -0.80194914]\n",
      " [ 0.27396644 -0.1284388  -0.63959435 -0.95670059 -0.80194914  1.\n",
      "   1.        ]\n",
      " [ 0.27396644 -0.1284388  -0.63959435 -0.95670059 -0.80194914  1.\n",
      "   1.        ]]\n"
     ]
    }
   ],
   "source": [
    "\n",
    "sinproj = np.zeros((len(patterns), len(patterns)))\n",
    "sinproj2 = np.zeros((len(patterns), len(patterns)))\n",
    "for i in range(len(patterns)):\n",
    "    for j in range(len(patterns)):\n",
    "        dp = np.dot(po.embs[i,:], po.embs[j,:])\n",
    "        sinproj[i,j] = dp/(np.linalg.norm(po.embs[i,:]) * np.linalg.norm(po.embs[j,:]))\n",
    "        sinproj2[i,j] = dp\n",
    "\n",
    "print(sinproj)\n",
    "print()\n",
    "print(sinproj2)"
   ]
  },
  {
   "cell_type": "code",
   "execution_count": 7,
   "metadata": {},
   "outputs": [
    {
     "data": {
      "text/plain": [
       "(7, 512)"
      ]
     },
     "execution_count": 7,
     "metadata": {},
     "output_type": "execute_result"
    }
   ],
   "source": [
    "po.embs.shape"
   ]
  },
  {
   "cell_type": "markdown",
   "metadata": {},
   "source": [
    "---"
   ]
  }
 ],
 "metadata": {
  "kernelspec": {
   "display_name": "Python 3",
   "language": "python",
   "name": "python3"
  },
  "language_info": {
   "codemirror_mode": {
    "name": "ipython",
    "version": 3
   },
   "file_extension": ".py",
   "mimetype": "text/x-python",
   "name": "python",
   "nbconvert_exporter": "python",
   "pygments_lexer": "ipython3",
   "version": "3.8.11"
  }
 },
 "nbformat": 4,
 "nbformat_minor": 5
}
