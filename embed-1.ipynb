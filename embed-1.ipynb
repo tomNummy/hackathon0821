{
 "cells": [
  {
   "cell_type": "code",
   "execution_count": 1,
   "id": "c84d39da",
   "metadata": {},
   "outputs": [],
   "source": [
    "from src.pandas_pattern_generator import PandasPatternGenerator\n",
    "from src.lsh import LSHashMap, hamming_dist, norm_vectors\n",
    "from src.bloom_count import bloom\n",
    "\n",
    "import numpy as np\n",
    "import pandas as pd\n",
    "import matplotlib.pyplot as plt\n",
    "from dask.dataframe.hyperloglog import compute_hll_array\n",
    "import itertools"
   ]
  },
  {
   "cell_type": "code",
   "execution_count": 2,
   "id": "c858f0f8",
   "metadata": {},
   "outputs": [],
   "source": [
    "BITS = 8\n",
    "NPats = 4\n",
    "\n",
    "ppg = PandasPatternGenerator(1000, 10)"
   ]
  },
  {
   "cell_type": "code",
   "execution_count": 3,
   "id": "263f3dcc",
   "metadata": {},
   "outputs": [],
   "source": [
    "def embed(s: pd.Series, bits: int = 8) -> np.array:\n",
    "    hll_embeds = compute_hll_array(s, bits)\n",
    "    cms_embeds = bloom(s, 2**(bits-3), 2**3)\n",
    "    return np.concatenate([hll_embeds, cms_embeds])\n"
   ]
  },
  {
   "cell_type": "code",
   "execution_count": 4,
   "id": "b8d56577",
   "metadata": {},
   "outputs": [
    {
     "name": "stderr",
     "output_type": "stream",
     "text": [
      "/home/tom/work/hackathon0821/src/lsh.py:16: RuntimeWarning: invalid value encountered in true_divide\n",
      "  res = (vs - means) / stds\n"
     ]
    }
   ],
   "source": [
    "embeds = np.asarray([embed(ppg.generate_pattern(x), BITS) for x in range(1, NPats + 1)])\n",
    "embeds = norm_vectors(embeds)\n",
    "\n",
    "overlaps = np.asarray([ppg.get_overlap(x, y) for x,y in itertools.product(*[range(1, NPats + 1)]*2)])\n",
    "overlaps = overlaps.reshape(NPats, NPats).T"
   ]
  },
  {
   "cell_type": "code",
   "execution_count": 5,
   "id": "39feacaf",
   "metadata": {},
   "outputs": [
    {
     "data": {
      "text/plain": [
       "array([[ 0.        ,  0.57735027,  0.        , ...,  1.57950795,\n",
       "         1.64266008,  1.65353476],\n",
       "       [ 0.        ,  0.57735027,  0.        , ...,  0.14359163,\n",
       "        -0.18850198, -0.09186304],\n",
       "       [ 0.        , -1.73205081,  0.        , ..., -0.86154979,\n",
       "        -0.40393281, -0.6430413 ],\n",
       "       [ 0.        ,  0.57735027,  0.        , ..., -0.86154979,\n",
       "        -1.05022529, -0.91863042]])"
      ]
     },
     "execution_count": 5,
     "metadata": {},
     "output_type": "execute_result"
    }
   ],
   "source": [
    "embeds"
   ]
  },
  {
   "cell_type": "code",
   "execution_count": 6,
   "id": "a788fafa",
   "metadata": {},
   "outputs": [
    {
     "data": {
      "text/plain": [
       "array([[1000,  500,  334,  250],\n",
       "       [ 500,  500,  167,  250],\n",
       "       [ 334,  167,  334,   84],\n",
       "       [ 250,  250,   84,  250]])"
      ]
     },
     "execution_count": 6,
     "metadata": {},
     "output_type": "execute_result"
    }
   ],
   "source": [
    "overlaps"
   ]
  },
  {
   "cell_type": "code",
   "execution_count": 7,
   "id": "12a361eb",
   "metadata": {},
   "outputs": [
    {
     "data": {
      "text/plain": [
       "{309138089: [2], 533999120: [1], 2156763807: [3], 3979535718: [0]}"
      ]
     },
     "execution_count": 7,
     "metadata": {},
     "output_type": "execute_result"
    }
   ],
   "source": [
    "d = LSHashMap(embeds, 32)\n",
    "d.bins"
   ]
  },
  {
   "cell_type": "code",
   "execution_count": 8,
   "id": "a0090b77",
   "metadata": {},
   "outputs": [
    {
     "data": {
      "text/plain": [
       "array([[ 0, 17, 12, 27],\n",
       "       [17,  0, 19, 20],\n",
       "       [12, 19,  0, 25],\n",
       "       [27, 20, 25,  0]])"
      ]
     },
     "execution_count": 8,
     "metadata": {},
     "output_type": "execute_result"
    }
   ],
   "source": [
    "h_dists = np.asarray([hamming_dist(x, y) for x,y in itertools.product(d.keys(), repeat=2)])\n",
    "h_dists = h_dists.reshape(len(d.bins), len(d.bins))\n",
    "h_dists"
   ]
  },
  {
   "cell_type": "markdown",
   "id": "5474227f",
   "metadata": {},
   "source": [
    "---"
   ]
  },
  {
   "cell_type": "code",
   "execution_count": 31,
   "id": "4c80d282",
   "metadata": {},
   "outputs": [
    {
     "data": {
      "text/plain": [
       "array([[ 1.        ,  0.97650562,  0.91853852, -0.92946651, -0.92664867],\n",
       "       [ 0.97650562,  1.        ,  0.98040213, -0.94670575, -0.94903287],\n",
       "       [ 0.91853852,  0.98040213,  1.        , -0.92806457, -0.93052106],\n",
       "       [-0.92946651, -0.94670575, -0.92806457,  1.        ,  0.79850605],\n",
       "       [-0.92664867, -0.94903287, -0.93052106,  0.79850605,  1.        ]])"
      ]
     },
     "execution_count": 31,
     "metadata": {},
     "output_type": "execute_result"
    }
   ],
   "source": [
    "pds= [\n",
    "    pd.Series([0]*1000),\n",
    "    pd.Series([0]*750 + [1]*250),\n",
    "    pd.Series([0]*500 + [1]*500),\n",
    "    pd.Series(np.arange(1000)),\n",
    "    pd.Series(np.arange(500, 1500))\n",
    "]\n",
    "\n",
    "arrs = np.asarray([embed(x, BITS) for x in pds])\n",
    "narrs = norm_vectors(arrs)\n",
    "\n",
    "sims = []\n",
    "for x in narrs:\n",
    "    inner = []\n",
    "    for y in narrs:\n",
    "        inner.append(np.dot(x, y)/(np.linalg.norm(x) * np.linalg.norm(y)))\n",
    "    sims.append(inner)\n",
    "    \n",
    "np.array(sims)"
   ]
  },
  {
   "cell_type": "code",
   "execution_count": 33,
   "id": "91025c68",
   "metadata": {},
   "outputs": [
    {
     "data": {
      "text/plain": [
       "{59: [0, 1], 123: [2], 132: [3], 228: [4]}"
      ]
     },
     "execution_count": 33,
     "metadata": {},
     "output_type": "execute_result"
    }
   ],
   "source": [
    "d = LSHashMap(narrs, 8)\n",
    "d.bins"
   ]
  },
  {
   "cell_type": "code",
   "execution_count": 34,
   "id": "ff9210ea",
   "metadata": {},
   "outputs": [
    {
     "data": {
      "text/plain": [
       "array([[0, 1, 7, 7],\n",
       "       [1, 0, 8, 6],\n",
       "       [7, 8, 0, 2],\n",
       "       [7, 6, 2, 0]])"
      ]
     },
     "execution_count": 34,
     "metadata": {},
     "output_type": "execute_result"
    }
   ],
   "source": [
    "h_dists = np.asarray([hamming_dist(x, y) for x,y in itertools.product(d.keys(), repeat=2)])\n",
    "h_dists = h_dists.reshape(len(d.bins), len(d.bins))\n",
    "h_dists"
   ]
  },
  {
   "cell_type": "code",
   "execution_count": 35,
   "id": "3b42e14a",
   "metadata": {},
   "outputs": [
    {
     "data": {
      "text/plain": [
       "array([[ 1.        ,  0.61774776, -0.35228962, -0.8753627 ],\n",
       "       [ 0.61774776,  1.        , -0.04936458, -0.85924114],\n",
       "       [-0.35228962, -0.04936458,  1.        , -0.01883305],\n",
       "       [-0.8753627 , -0.85924114, -0.01883305,  1.        ]])"
      ]
     },
     "execution_count": 35,
     "metadata": {},
     "output_type": "execute_result"
    }
   ],
   "source": [
    "N = 10**3\n",
    "\n",
    "pds= [\n",
    "    pd.Series(np.arange(N*x)) for x in [1, 2,  4,  10]\n",
    "]\n",
    "\n",
    "\n",
    "arrs = np.asarray([embed(x, BITS) for x in pds])\n",
    "narrs = norm_vectors(arrs)\n",
    "\n",
    "sims = []\n",
    "for x in narrs:\n",
    "    inner = []\n",
    "    for y in narrs:\n",
    "        inner.append(np.dot(x, y)/(np.linalg.norm(x) * np.linalg.norm(y)))\n",
    "    sims.append(inner)\n",
    "    \n",
    "np.array(sims)"
   ]
  },
  {
   "cell_type": "code",
   "execution_count": 38,
   "id": "46229dd2",
   "metadata": {},
   "outputs": [
    {
     "data": {
      "text/plain": [
       "{13322487: [1], 289620093: [0], 3689830307: [2], 4004822784: [3]}"
      ]
     },
     "execution_count": 38,
     "metadata": {},
     "output_type": "execute_result"
    }
   ],
   "source": [
    "d = LSHashMap(narrs, 32)\n",
    "d.bins"
   ]
  },
  {
   "cell_type": "code",
   "execution_count": 39,
   "id": "68d1105b",
   "metadata": {},
   "outputs": [
    {
     "data": {
      "text/plain": [
       "array([[ 0,  8, 17, 27],\n",
       "       [ 8,  0, 19, 29],\n",
       "       [17, 19,  0, 16],\n",
       "       [27, 29, 16,  0]])"
      ]
     },
     "execution_count": 39,
     "metadata": {},
     "output_type": "execute_result"
    }
   ],
   "source": [
    "h_dists = np.asarray([hamming_dist(x, y) for x,y in itertools.product(d.keys(), repeat=2)])\n",
    "h_dists = h_dists.reshape(len(d.bins), len(d.bins))\n",
    "h_dists"
   ]
  },
  {
   "cell_type": "code",
   "execution_count": 40,
   "id": "0d28d5a4",
   "metadata": {},
   "outputs": [
    {
     "data": {
      "text/plain": [
       "array([[ 1.        ,  0.30777888, -0.3184776 , -0.60875666, -0.56948444],\n",
       "       [ 0.30777888,  1.        , -0.09509274, -0.58381856, -0.59714992],\n",
       "       [-0.3184776 , -0.09509274,  1.        , -0.0601579 , -0.27921485],\n",
       "       [-0.60875666, -0.58381856, -0.0601579 ,  1.        ,  0.3539794 ],\n",
       "       [-0.56948444, -0.59714992, -0.27921485,  0.3539794 ,  1.        ]])"
      ]
     },
     "execution_count": 40,
     "metadata": {},
     "output_type": "execute_result"
    }
   ],
   "source": [
    "N = 10**5\n",
    "\n",
    "pds= [\n",
    "    pd.Series(np.arange(x, N + x)) for x in [0, int(N*0.20),  int(N*0.50),  int(N*0.80), N]\n",
    "]\n",
    "\n",
    "\n",
    "arrs = np.asarray([embed(x, BITS) for x in pds])\n",
    "narrs = norm_vectors(arrs)\n",
    "\n",
    "sims = []\n",
    "for x in narrs:\n",
    "    inner = []\n",
    "    for y in narrs:\n",
    "        inner.append(np.dot(x, y)/(np.linalg.norm(x) * np.linalg.norm(y)))\n",
    "    sims.append(inner)\n",
    "    \n",
    "np.array(sims)"
   ]
  },
  {
   "cell_type": "code",
   "execution_count": 41,
   "id": "6843aa65",
   "metadata": {},
   "outputs": [
    {
     "data": {
      "text/plain": [
       "{748931278: [2],\n",
       " 901142650: [4],\n",
       " 1515984801: [0],\n",
       " 2737007482: [3],\n",
       " 3428693509: [1]}"
      ]
     },
     "execution_count": 41,
     "metadata": {},
     "output_type": "execute_result"
    }
   ],
   "source": [
    "d = LSHashMap(narrs, 32)\n",
    "d.bins"
   ]
  },
  {
   "cell_type": "code",
   "execution_count": 42,
   "id": "79202b2d",
   "metadata": {},
   "outputs": [
    {
     "data": {
      "text/plain": [
       "array([[ 0, 12, 26, 14, 21],\n",
       "       [12,  0, 22, 12, 25],\n",
       "       [26, 22,  0, 24, 11],\n",
       "       [14, 12, 24,  0, 25],\n",
       "       [21, 25, 11, 25,  0]])"
      ]
     },
     "execution_count": 42,
     "metadata": {},
     "output_type": "execute_result"
    }
   ],
   "source": [
    "h_dists = np.asarray([hamming_dist(x, y) for x,y in itertools.product(d.keys(), repeat=2)])\n",
    "h_dists = h_dists.reshape(len(d.bins), len(d.bins))\n",
    "h_dists"
   ]
  },
  {
   "cell_type": "code",
   "execution_count": null,
   "id": "64d267dd",
   "metadata": {},
   "outputs": [],
   "source": []
  }
 ],
 "metadata": {
  "kernelspec": {
   "display_name": "Python 3 (ipykernel)",
   "language": "python",
   "name": "python3"
  },
  "language_info": {
   "codemirror_mode": {
    "name": "ipython",
    "version": 3
   },
   "file_extension": ".py",
   "mimetype": "text/x-python",
   "name": "python",
   "nbconvert_exporter": "python",
   "pygments_lexer": "ipython3",
   "version": "3.8.4"
  }
 },
 "nbformat": 4,
 "nbformat_minor": 5
}
